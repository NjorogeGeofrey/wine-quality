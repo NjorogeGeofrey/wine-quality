{
 "cells": [
  {
   "cell_type": "markdown",
   "metadata": {
    "id": "BS-d6xdkllWd"
   },
   "source": []
  },
  {
   "cell_type": "markdown",
   "metadata": {
    "id": "TX_-QfCapg5r"
   },
   "source": [
    "## CMTH642 - Data Analytics: Advanced Methods  \n",
    "### Assignment 2\n"
   ]
  },
  {
   "cell_type": "markdown",
   "metadata": {
    "id": "KPUF4R_NlrMT"
   },
   "source": [
    "Assignment 2 is worth 15% of the final grade. Submit the ipynb file and a generated output file (PDF or HTML). Failing to submit both files will be subject to a mark deduction.\n",
    "\n",
    "Your output file should include all the tables, plots, and requested figures/values.\n",
    "\n",
    "Printing the lengthy outputs (e.g., the whole data frame or a list with more than 100 elements) will have a deduction of 5 points. Instead, please use head() or tail() to have a neat output.\n",
    "\n",
    "If you preprocess the data in a question, you should continue with the same dataset in the following questions unless otherwise mentioned.\n"
   ]
  },
  {
   "cell_type": "markdown",
   "metadata": {
    "id": "s2h0BVIqmIpE"
   },
   "source": [
    "### Preparation:\n",
    "\n",
    "The dataset is related to Portuguese \"Vinho Verde\" wines. For more info:\n",
    "https://archive.ics.uci.edu/ml/datasets/Wine+Quality\n",
    "\n",
    "Import the following files:\n",
    "http://archive.ics.uci.edu/ml/machine-learning-databases/wine-quality/winequality-white.csv    \n",
    "http://archive.ics.uci.edu/ml/machine-learning-databases/wine-quality/winequality-red.csv\n"
   ]
  },
  {
   "cell_type": "markdown",
   "metadata": {
    "id": "xm7GwIpdH12O"
   },
   "source": [
    "### Question 1\n",
    "\n",
    "\n",
    "\n",
    "1) Read the white wine as a pandas dataframe and name it wine_data_white. **Display the first 3 rows of wine_data_white.**\n",
    "<br>\n",
    "2) Read the red wine as a pandas dataframe and name it wine_data_red. **Display the first 3 rows of wine_data_red.**\n",
    "<br>\n",
    "3) Join the wine_data_red and wine_data_white datasets by adding the rows of one to the other. Name the joined dataframe wine_data. **Display the total number of rows and columns in the wine_data dataframe.**\n",
    "\n",
    "\n",
    "The following questions will be evaluated for wine_data. (2 points)\n",
    "\n"
   ]
  },
  {
   "cell_type": "code",
   "execution_count": 7,
   "metadata": {
    "id": "eLJzRNJL67kc"
   },
   "outputs": [],
   "source": [
    "import pandas as pd"
   ]
  },
  {
   "cell_type": "code",
   "execution_count": 44,
   "metadata": {
    "id": "G9UKUVoW2jTN"
   },
   "outputs": [
    {
     "name": "stdout",
     "output_type": "stream",
     "text": [
      "   fixed acidity  volatile acidity  citric acid  residual sugar  chlorides  \\\n",
      "0            7.0              0.27         0.36            20.7      0.045   \n",
      "1            6.3              0.30         0.34             1.6      0.049   \n",
      "2            8.1              0.28         0.40             6.9      0.050   \n",
      "\n",
      "   free sulfur dioxide  total sulfur dioxide  density    pH  sulphates  \\\n",
      "0                 45.0                 170.0   1.0010  3.00       0.45   \n",
      "1                 14.0                 132.0   0.9940  3.30       0.49   \n",
      "2                 30.0                  97.0   0.9951  3.26       0.44   \n",
      "\n",
      "   alcohol  quality  \n",
      "0      8.8        6  \n",
      "1      9.5        6  \n",
      "2     10.1        6  \n",
      "   fixed acidity  volatile acidity  citric acid  residual sugar  chlorides  \\\n",
      "0            7.4              0.70         0.00             1.9      0.076   \n",
      "1            7.8              0.88         0.00             2.6      0.098   \n",
      "2            7.8              0.76         0.04             2.3      0.092   \n",
      "\n",
      "   free sulfur dioxide  total sulfur dioxide  density    pH  sulphates  \\\n",
      "0                 11.0                  34.0   0.9978  3.51       0.56   \n",
      "1                 25.0                  67.0   0.9968  3.20       0.68   \n",
      "2                 15.0                  54.0   0.9970  3.26       0.65   \n",
      "\n",
      "   alcohol  quality  \n",
      "0      9.4        5  \n",
      "1      9.8        5  \n",
      "2      9.8        5  \n",
      "Total rows and columns are (6497, 12) respectively\n"
     ]
    }
   ],
   "source": [
    "\n",
    "# Reading the white wine data \n",
    "wine_data_white = pd.read_csv('http://archive.ics.uci.edu/ml/machine-learning-databases/wine-quality/winequality-white.csv', delimiter=';')\n",
    "# Displaying the first 3 rows\n",
    "print(wine_data_white.head(n=3))\n",
    "# Reading the red wine data \n",
    "wine_data_red = pd.read_csv('http://archive.ics.uci.edu/ml/machine-learning-databases/wine-quality/winequality-red.csv', delimiter=';')\n",
    "\n",
    "# Displaying the first 3 rows \n",
    "print(wine_data_red.head(n=3))\n",
    "\n",
    "#Joining the two datasets\n",
    "wine_data = pd.concat([wine_data_white, wine_data_red], ignore_index = True)\n",
    "#printnig the total rows and columns\n",
    "print(f\"Total rows and columns are {wine_data.shape} respectively\")"
   ]
  },
  {
   "cell_type": "markdown",
   "metadata": {
    "id": "_s6g0tee67kr"
   },
   "source": [
    "### Question 2\n",
    "Check the data types of the attributes. (2 points)"
   ]
  },
  {
   "cell_type": "code",
   "execution_count": 45,
   "metadata": {
    "id": "0FoGozgK2jTO"
   },
   "outputs": [
    {
     "name": "stdout",
     "output_type": "stream",
     "text": [
      "<class 'pandas.core.frame.DataFrame'>\n",
      "RangeIndex: 6497 entries, 0 to 6496\n",
      "Data columns (total 12 columns):\n",
      " #   Column                Non-Null Count  Dtype  \n",
      "---  ------                --------------  -----  \n",
      " 0   fixed acidity         6497 non-null   float64\n",
      " 1   volatile acidity      6497 non-null   float64\n",
      " 2   citric acid           6497 non-null   float64\n",
      " 3   residual sugar        6497 non-null   float64\n",
      " 4   chlorides             6497 non-null   float64\n",
      " 5   free sulfur dioxide   6497 non-null   float64\n",
      " 6   total sulfur dioxide  6497 non-null   float64\n",
      " 7   density               6497 non-null   float64\n",
      " 8   pH                    6497 non-null   float64\n",
      " 9   sulphates             6497 non-null   float64\n",
      " 10  alcohol               6497 non-null   float64\n",
      " 11  quality               6497 non-null   int64  \n",
      "dtypes: float64(11), int64(1)\n",
      "memory usage: 609.2 KB\n"
     ]
    }
   ],
   "source": [
    "wine_data.info()"
   ]
  },
  {
   "cell_type": "markdown",
   "metadata": {
    "id": "xAvoOQnu67kv"
   },
   "source": [
    "### Question 3\n",
    "Are there any missing values in the dataset? How many? You should not print the whole dataset. (2 points)"
   ]
  },
  {
   "cell_type": "code",
   "execution_count": 46,
   "metadata": {
    "id": "ClM56s8_2jTO"
   },
   "outputs": [
    {
     "name": "stdout",
     "output_type": "stream",
     "text": [
      "Total missing values in the dataset are:  0\n"
     ]
    }
   ],
   "source": [
    "Missing = wine_data.isnull().sum().sum()\n",
    "print(\"Total missing values in the dataset are: \", Missing)"
   ]
  },
  {
   "cell_type": "markdown",
   "metadata": {
    "id": "TnITuRoZ67kw"
   },
   "source": [
    "### Question 4\n",
    "\n",
    "Ignoring the quality column (a categorical column), display the pearson correlation between all the attributes? (8 points)"
   ]
  },
  {
   "cell_type": "code",
   "execution_count": 47,
   "metadata": {
    "id": "2Vl6gulm2jTO"
   },
   "outputs": [
    {
     "name": "stdout",
     "output_type": "stream",
     "text": [
      "Correlation matrix: \n",
      "\n",
      "                      fixed acidity  volatile acidity  citric acid  \\\n",
      "fixed acidity              1.000000          0.219008     0.324436   \n",
      "volatile acidity           0.219008          1.000000    -0.377981   \n",
      "citric acid                0.324436         -0.377981     1.000000   \n",
      "residual sugar            -0.111981         -0.196011     0.142451   \n",
      "chlorides                  0.298195          0.377124     0.038998   \n",
      "free sulfur dioxide       -0.282735         -0.352557     0.133126   \n",
      "total sulfur dioxide      -0.329054         -0.414476     0.195242   \n",
      "density                    0.458910          0.271296     0.096154   \n",
      "pH                        -0.252700          0.261454    -0.329808   \n",
      "sulphates                  0.299568          0.225984     0.056197   \n",
      "alcohol                   -0.095452         -0.037640    -0.010493   \n",
      "\n",
      "                      residual sugar  chlorides  free sulfur dioxide  \\\n",
      "fixed acidity              -0.111981   0.298195            -0.282735   \n",
      "volatile acidity           -0.196011   0.377124            -0.352557   \n",
      "citric acid                 0.142451   0.038998             0.133126   \n",
      "residual sugar              1.000000  -0.128940             0.402871   \n",
      "chlorides                  -0.128940   1.000000            -0.195045   \n",
      "free sulfur dioxide         0.402871  -0.195045             1.000000   \n",
      "total sulfur dioxide        0.495482  -0.279630             0.720934   \n",
      "density                     0.552517   0.362615             0.025717   \n",
      "pH                         -0.267320   0.044708            -0.145854   \n",
      "sulphates                  -0.185927   0.395593            -0.188457   \n",
      "alcohol                    -0.359415  -0.256916            -0.179838   \n",
      "\n",
      "                      total sulfur dioxide   density        pH  sulphates  \\\n",
      "fixed acidity                    -0.329054  0.458910 -0.252700   0.299568   \n",
      "volatile acidity                 -0.414476  0.271296  0.261454   0.225984   \n",
      "citric acid                       0.195242  0.096154 -0.329808   0.056197   \n",
      "residual sugar                    0.495482  0.552517 -0.267320  -0.185927   \n",
      "chlorides                        -0.279630  0.362615  0.044708   0.395593   \n",
      "free sulfur dioxide               0.720934  0.025717 -0.145854  -0.188457   \n",
      "total sulfur dioxide              1.000000  0.032395 -0.238413  -0.275727   \n",
      "density                           0.032395  1.000000  0.011686   0.259478   \n",
      "pH                               -0.238413  0.011686  1.000000   0.192123   \n",
      "sulphates                        -0.275727  0.259478  0.192123   1.000000   \n",
      "alcohol                          -0.265740 -0.686745  0.121248  -0.003029   \n",
      "\n",
      "                       alcohol  \n",
      "fixed acidity        -0.095452  \n",
      "volatile acidity     -0.037640  \n",
      "citric acid          -0.010493  \n",
      "residual sugar       -0.359415  \n",
      "chlorides            -0.256916  \n",
      "free sulfur dioxide  -0.179838  \n",
      "total sulfur dioxide -0.265740  \n",
      "density              -0.686745  \n",
      "pH                    0.121248  \n",
      "sulphates            -0.003029  \n",
      "alcohol               1.000000  \n"
     ]
    }
   ],
   "source": [
    "#Creating a new dataset without the quality column\n",
    "Data = wine_data.drop('quality', axis = 1)\n",
    "print(\"Correlation matrix: \\n\")\n",
    "\n",
    "#Printing pearson correlation between all the attributes\n",
    "print(Data.corr())"
   ]
  },
  {
   "cell_type": "markdown",
   "metadata": {
    "id": "DVh2ZDUr67ky"
   },
   "source": [
    "### Question 5\n",
    "Using 'quality' attribute, do the following: <br>\n",
    "* Display the different values of wine quality. How many levels of wine quality are in this dataset?\n",
    "<br>\n",
    "* Plot the frequency distribution of wine quality by using the Quality attribute.\n",
    "<br>\n",
    "(8 points)"
   ]
  },
  {
   "cell_type": "code",
   "execution_count": 62,
   "metadata": {
    "id": "ZNiqlhb72jTP"
   },
   "outputs": [
    {
     "name": "stdout",
     "output_type": "stream",
     "text": [
      "Different values of wine quality:  [6 5 7 8 4 3 9]\n",
      "Number levels of wine quality:  7\n"
     ]
    },
    {
     "data": {
      "text/plain": [
       "<AxesSubplot:xlabel='quality', ylabel='Count'>"
      ]
     },
     "execution_count": 62,
     "metadata": {},
     "output_type": "execute_result"
    },
    {
     "data": {
      "image/png": "[encoded data removed]",
      "text/plain": [
       "<Figure size 432x288 with 1 Axes>"
      ]
     },
     "metadata": {
      "needs_background": "light"
     },
     "output_type": "display_data"
    }
   ],
   "source": [
    "import seaborn as sns\n",
    "\n",
    "Wine_quality = wine_data.quality.unique()\n",
    "Length = len(Wine_quality)\n",
    "\n",
    "print(\"Different values of wine quality: \", Wine_quality)\n",
    "print(\"Number levels of wine quality: \", Length)\n",
    "\n",
    "\n",
    "sns.histplot(data = wine_data, x = 'quality')"
   ]
  },
  {
   "cell_type": "markdown",
   "metadata": {
    "id": "-rwkqF6f67k0"
   },
   "source": [
    "### Question 6\n",
    "\n",
    "We want to create a new column called 'quality_new' to group these 7 levels of quality ratings and reduce them to two distinguishable levels. (10 points)\n",
    "\n",
    "1) Create the new_quality variable as per the conditions above.\n",
    "<br>\n",
    "2) How many wines pass the quality test and how many fail? Display the total count of wines having a 0 quality rating level and those having a 1 quality rating level.\n",
    "<br>\n",
    "3) Drop the 'quality' column from the wine_data. We will be using 'quality_new' going forward.\n",
    "\n",
    "\n",
    "- **Condition** We assume levels :\n",
    "    - 3, 4, and 5 to be bad grade wine level. We replace any of those quality level numbers to 0 ('Fail')\n",
    "    - 6, 7, 8, 9 to be good grade wine level. We replace any of those quality level numbers to 1 ('Pass')"
   ]
  },
  {
   "cell_type": "code",
   "execution_count": 76,
   "metadata": {},
   "outputs": [
    {
     "name": "stdout",
     "output_type": "stream",
     "text": [
      "2384\n"
     ]
    }
   ],
   "source": [
    "\n",
    "\n",
    "print(fail_count)"
   ]
  },
  {
   "cell_type": "code",
   "execution_count": 77,
   "metadata": {
    "id": "W7xLRyYT2jTP"
   },
   "outputs": [
    {
     "name": "stdout",
     "output_type": "stream",
     "text": [
      "Wines that fail:  2384\n",
      "Wines that passed:  4113\n"
     ]
    }
   ],
   "source": [
    "# Create the new_quality variable\n",
    "wine_data['new_quality'] = wine_data['quality'].apply(lambda x:0 if x in [3, 4, 5] else 1)\n",
    "# Count the number of wines that pass and fail the quality test\n",
    "quality_counts = wine_data['new_quality'].value_counts()\n",
    "fail_count = quality_counts.get(0, 0)\n",
    "pass_count = quality_counts.get(1, 0)\n",
    "\n",
    "print(\"Wines that fail: \", fail_count)\n",
    "print(\"Wines that passed: \", pass_count)\n",
    "\n",
    "#Drop the quality variable\n",
    "wine_data = wine_data.drop('quality', axis = 1)\n"
   ]
  },
  {
   "cell_type": "markdown",
   "metadata": {
    "id": "Uw_zd-JM67k1"
   },
   "source": [
    "### Question 7\n",
    "Normalize the numeric attributes using the following normalization using the following method: (x - min(x)) / (max(x) - min(x)).\n",
    "<br>\n",
    "**Display the first 3 rows and last 3 rows of your final output.** (10 points)\n",
    "\n",
    "* *Hint/Optional*\n",
    "    * First create a new dataframe with only numeric variables (remove 'quality_new'). Call it wine_data_num.\n",
    "    * Then apply normalization on wine_data_num.\n",
    "    * Then ensure to join 'quality_new' column from the original wine_data dataframe to the normalized data.\n",
    "    * To ensure ensure code readability best practices, ensure your final normalized data that includes quality_new variable is called : 'wine_data_normalized'"
   ]
  },
  {
   "cell_type": "code",
   "execution_count": 84,
   "metadata": {
    "id": "0nOm3Eaj2jTP",
    "scrolled": true
   },
   "outputs": [
    {
     "name": "stdout",
     "output_type": "stream",
     "text": [
      "First 3 rows:\n",
      "   fixed acidity  volatile acidity  citric acid  residual sugar  chlorides  \\\n",
      "0       0.264463          0.126667     0.216867        0.308282   0.059801   \n",
      "1       0.206612          0.146667     0.204819        0.015337   0.066445   \n",
      "2       0.355372          0.133333     0.240964        0.096626   0.068106   \n",
      "\n",
      "   free sulfur dioxide  total sulfur dioxide   density        pH  sulphates  \\\n",
      "0             0.152778              0.377880  0.267785  0.217054   0.129213   \n",
      "1             0.045139              0.290323  0.132832  0.449612   0.151685   \n",
      "2             0.100694              0.209677  0.154039  0.418605   0.123596   \n",
      "\n",
      "    alcohol  new_quality  \n",
      "0  0.115942            1  \n",
      "1  0.217391            1  \n",
      "2  0.304348            1  \n",
      "\n",
      "Last 3 rows:\n",
      "      fixed acidity  volatile acidity  citric acid  residual sugar  chlorides  \\\n",
      "6494       0.206612          0.286667     0.078313        0.026074   0.111296   \n",
      "6495       0.173554          0.376667     0.072289        0.021472   0.109635   \n",
      "6496       0.181818          0.153333     0.283133        0.046012   0.096346   \n",
      "\n",
      "      free sulfur dioxide  total sulfur dioxide   density        pH  \\\n",
      "6494             0.097222              0.078341  0.166377  0.542636   \n",
      "6495             0.107639              0.087558  0.161172  0.658915   \n",
      "6496             0.059028              0.082949  0.161558  0.519380   \n",
      "\n",
      "      sulphates   alcohol  new_quality  \n",
      "6494   0.297753  0.434783            1  \n",
      "6495   0.275281  0.318841            0  \n",
      "6496   0.247191  0.434783            1  \n"
     ]
    }
   ],
   "source": [
    "#Dropping the quality_new\n",
    "wine_data_num = wine_data.drop(columns = ['new_quality'])\n",
    "\n",
    "#Normalization\n",
    "wine_data_num = (wine_data_num - wine_data_num.min()) / (wine_data_num.max() - wine_data_num.min())\n",
    "\n",
    "#Joining the new_quality variable to the normalized data\n",
    "wine_data_normalized = wine_data_num.join(wine_data['new_quality'])\n",
    "\n",
    "#Displaying the first 3 rows and last 3 rows of your final output.\n",
    "\n",
    "print(\"First 3 rows:\")\n",
    "print(wine_data_normalized.head(3))\n",
    "\n",
    "print(\"\\nLast 3 rows:\")\n",
    "print(wine_data_normalized.tail(3))\n"
   ]
  },
  {
   "cell_type": "markdown",
   "metadata": {
    "id": "VwbMxG9U2jTP"
   },
   "source": [
    "- ## <font color='blue' size=\"4\">**Read Instructions Below Prior to Proceeding with Next Questions**</font>\n",
    "    * From this Question onwards, we are using the **<u>\"data_wine_normalized\"<u>**. *Optional: you are free to drop any other wine_data you've created along the way only if you want to.*\n",
    "    * <font color='blue'>**Objective<u>**</font> :\n",
    "**Our goal is to build two binary classification models to predict whether wine passes or fails the quality rating level, and evaluate their performance**\n",
    "    \n"
   ]
  },
  {
   "cell_type": "markdown",
   "metadata": {
    "id": "t0MbenQb67k2"
   },
   "source": [
    "### Question 8\n",
    "Divide the dataset to training and test sets. (10 points)"
   ]
  },
  {
   "cell_type": "code",
   "execution_count": 86,
   "metadata": {
    "id": "cAw_HU6s2jTQ"
   },
   "outputs": [],
   "source": [
    "from sklearn.model_selection import train_test_split\n",
    "X = wine_data_normalized.drop(columns = ['new_quality'])\n",
    "Y = wine_data_normalized['new_quality']\n",
    "\n",
    "X_train, X_test, Y_train, Y_test = train_test_split(X, Y, test_size = 0.2, random_state = 42)"
   ]
  },
  {
   "cell_type": "markdown",
   "metadata": {
    "id": "Z0-NvzsYno7l"
   },
   "source": [
    "### Question 9\n",
    "Use the Logistic Regression algorithm to predict the quality of wine (quality_new) using its attributes. (12 points)"
   ]
  },
  {
   "cell_type": "code",
   "execution_count": 87,
   "metadata": {
    "id": "eEq7LxfB2jTQ"
   },
   "outputs": [],
   "source": [
    "from sklearn.linear_model import LogisticRegression\n",
    "logreg = LogisticRegression(random_state = 42)\n",
    "logreg.fit(X_train, Y_train)\n",
    "Y_reg_logreg = logreg.predict(X_test)"
   ]
  },
  {
   "cell_type": "markdown",
   "metadata": {
    "id": "UtVW9Wqi67k5"
   },
   "source": [
    "### Question 10\n",
    "Use the KNN algorithm to predict the quality of wine (quality_new) using its attributes. (12 points)"
   ]
  },
  {
   "cell_type": "code",
   "execution_count": 91,
   "metadata": {
    "id": "5TXWITBB2jTR"
   },
   "outputs": [],
   "source": [
    "from sklearn.neighbors import KNeighborsClassifier\n",
    "knn = KNeighborsClassifier(n_neighbors = 5)\n",
    "knn.fit(X_train, Y_train)\n",
    "Y_knn_predict = knn.predict(X_test)"
   ]
  },
  {
   "cell_type": "markdown",
   "metadata": {
    "id": "5_QQUorI67k8"
   },
   "source": [
    "### Question 11\n",
    "Display two confusion matrices to evaluate the performances of Logistic Regression and KNN. (A simple matrix is enough. No need to plot it.) (12 points)"
   ]
  },
  {
   "cell_type": "code",
   "execution_count": 92,
   "metadata": {
    "id": "KN3e8HDi2jTR"
   },
   "outputs": [
    {
     "name": "stdout",
     "output_type": "stream",
     "text": [
      "Confusion Matrix for Logistic Regression:\n",
      "[[272 196]\n",
      " [139 693]]\n",
      "\n",
      "Confusion Matrix for KNN:\n",
      "[[307 161]\n",
      " [136 696]]\n"
     ]
    }
   ],
   "source": [
    "from sklearn.metrics import confusion_matrix\n",
    "# Confusion matrices\n",
    "conf_matrix_logreg = confusion_matrix(Y_test, Y_reg_logreg)\n",
    "conf_matrix_knn = confusion_matrix(Y_test, Y_knn_predict)\n",
    "\n",
    "print(\"Confusion Matrix for Logistic Regression:\")\n",
    "print(conf_matrix_logreg)\n",
    "\n",
    "print(\"\\nConfusion Matrix for KNN:\")\n",
    "print(conf_matrix_knn)"
   ]
  },
  {
   "cell_type": "markdown",
   "metadata": {
    "id": "O0kvru8vIr5y"
   },
   "source": [
    "### Question 12\n",
    "Evaluate the models’ performances by computing Accuracy, Precision, and Recall. <br>\n",
    "For each performance metric write <font color='red'> **only one sentence** </font> to explain what the number means, assuming you are presenting to non-technical audience.(12 points)\n"
   ]
  },
  {
   "cell_type": "code",
   "execution_count": 94,
   "metadata": {
    "id": "xFztU9u4oIDS"
   },
   "outputs": [],
   "source": [
    "from sklearn.metrics import accuracy_score, precision_score, recall_score"
   ]
  },
  {
   "cell_type": "code",
   "execution_count": 97,
   "metadata": {
    "id": "dyhUNhEi2jTS"
   },
   "outputs": [
    {
     "name": "stdout",
     "output_type": "stream",
     "text": [
      "\n",
      "Logistic Regression Performance:\n",
      "Accuracy: 0.74\n",
      "Accuracy: The model was able to correctly classify 74% of the wine samples out of all samples.\n",
      "Precision: 0.78\n",
      "Precision: The model correctly classified 78% of the good quality wines out of all wines classified as good quality\n",
      "Recall: 0.83\n",
      "Recall: The model correctly classified 83% of the good quality wines out of all actual good quality wines.\n",
      "\n",
      "KNN Performance:\n",
      "Accuracy: 0.77\n",
      "Accuracy: The model was able to correctly classify 77% of the wine samples out of all samples.\n",
      "Precision: 0.81\n",
      "Precision: The model correctly classified 81% of the good quality wines out of all wines classified as good quality\n",
      "Recall: 0.84\n",
      "Recall: The model correctly classified 84% of the good quality wines out of all actual good quality wines.\n"
     ]
    }
   ],
   "source": [
    "# Evaluate models\n",
    "accuracy_logreg = accuracy_score(Y_test, Y_reg_logreg)\n",
    "precision_logreg = precision_score(Y_test, Y_reg_logreg)\n",
    "recall_logreg = recall_score(Y_test, Y_reg_logreg)\n",
    "\n",
    "accuracy_knn = accuracy_score(Y_test, Y_knn_predict)\n",
    "precision_knn = precision_score(Y_test, Y_knn_predict)\n",
    "recall_knn = recall_score(Y_test, Y_knn_predict)\n",
    "\n",
    "# Print performance metrics\n",
    "print(\"\\nLogistic Regression Performance:\")\n",
    "print(f\"Accuracy: {accuracy_logreg:.2f}\")\n",
    "print(\"Accuracy: The model was able to correctly classify 74% of the wine samples out of all samples.\")\n",
    "print(f\"Precision: {precision_logreg:.2f}\")\n",
    "print(\"Precision: The model correctly classified 78% of the good quality wines out of all wines classified as good quality\")\n",
    "print(f\"Recall: {recall_logreg:.2f}\")\n",
    "print(\"Recall: The model correctly classified 83% of the good quality wines out of all actual good quality wines.\")\n",
    "\n",
    "print(\"\\nKNN Performance:\")\n",
    "print(f\"Accuracy: {accuracy_knn:.2f}\")\n",
    "print(\"Accuracy: The model was able to correctly classify 77% of the wine samples out of all samples.\")\n",
    "print(f\"Precision: {precision_knn:.2f}\")\n",
    "print(\"Precision: The model correctly classified 81% of the good quality wines out of all wines classified as good quality\")\n",
    "print(f\"Recall: {recall_knn:.2f}\")\n",
    "print(\"Recall: The model correctly classified 84% of the good quality wines out of all actual good quality wines.\")\n",
    "\n",
    "\n"
   ]
  }
 ],
 "metadata": {
  "colab": {
   "provenance": []
  },
  "kernelspec": {
   "display_name": "Python 3 (ipykernel)",
   "language": "python",
   "name": "python3"
  },
  "language_info": {
   "codemirror_mode": {
    "name": "ipython",
    "version": 3
   },
   "file_extension": ".py",
   "mimetype": "text/x-python",
   "name": "python",
   "nbconvert_exporter": "python",
   "pygments_lexer": "ipython3",
   "version": "3.9.12"
  }
 },
 "nbformat": 4,
 "nbformat_minor": 1
}
